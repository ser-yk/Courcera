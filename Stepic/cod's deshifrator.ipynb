{
 "cells": [
  {
   "cell_type": "code",
   "execution_count": 24,
   "metadata": {},
   "outputs": [
    {
     "name": "stdout",
     "output_type": "stream",
     "text": [
      "a1b1c1\n",
      "\n",
      " 2 0 1\n"
     ]
    }
   ],
   "source": [
    "char = str(input())\n",
    "\n",
    "i = 0\n",
    "j = - len(char) + 1\n",
    "result = str('')\n",
    "cnt = 1\n",
    "\n",
    "\n",
    "while i <= len(char) - 2:\n",
    "    if char[i] == char[j]:\n",
    "        cnt += 1\n",
    "        i += 1\n",
    "        j += 1\n",
    "    else:\n",
    "        print('{}{}'.format(char[i], cnt), end='')\n",
    "        i += 1\n",
    "        j += 1\n",
    "        cnt = 1\n",
    "        \n",
    "else:\n",
    "    if cnt == 1:\n",
    "        print('{}{}'.format(char[j -1], cnt))\n",
    "        \n",
    "        \n",
    "    else:\n",
    "        print('{}{}'.format(char[i - 1], cnt))\n",
    "        \n",
    "\n",
    "print('\\n', i, j, cnt)\n",
    "\n",
    "\n",
    "\n",
    "\n",
    "\n",
    "\n",
    "\n"
   ]
  },
  {
   "cell_type": "code",
   "execution_count": 27,
   "metadata": {},
   "outputs": [
    {
     "name": "stdout",
     "output_type": "stream",
     "text": [
      "a4b2c1a2"
     ]
    }
   ],
   "source": [
    "a = str('aaaabbcaa')\n",
    "\n",
    "a = a + '0'\n",
    "cnt = 1\n",
    "\n",
    "for i in range(0, len(a) - 1):\n",
    "    if a[i] == a[i + 1]:\n",
    "        cnt += 1\n",
    "    else:\n",
    "        print('{}{}'.format(a[i], cnt), end='')\n",
    "        cnt = 1"
   ]
  },
  {
   "cell_type": "code",
   "execution_count": 28,
   "metadata": {},
   "outputs": [
    {
     "name": "stdout",
     "output_type": "stream",
     "text": [
      "aaaabbcaa\n",
      "a4b2c1a2"
     ]
    }
   ],
   "source": [
    "cnt,a = 0,input()+' '\n",
    "for i in a:\n",
    "    if a[0] != i:\n",
    "        print(a[0],cnt,end='',sep='')\n",
    "        cnt,a = 0,i\n",
    "    cnt += 1"
   ]
  },
  {
   "cell_type": "code",
   "execution_count": null,
   "metadata": {},
   "outputs": [],
   "source": []
  }
 ],
 "metadata": {
  "kernelspec": {
   "display_name": "Python 3",
   "language": "python",
   "name": "python3"
  },
  "language_info": {
   "codemirror_mode": {
    "name": "ipython",
    "version": 3
   },
   "file_extension": ".py",
   "mimetype": "text/x-python",
   "name": "python",
   "nbconvert_exporter": "python",
   "pygments_lexer": "ipython3",
   "version": "3.7.3"
  }
 },
 "nbformat": 4,
 "nbformat_minor": 2
}
