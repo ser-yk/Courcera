{
 "cells": [
  {
   "cell_type": "code",
   "execution_count": 2,
   "metadata": {
    "scrolled": false
   },
   "outputs": [
    {
     "name": "stdout",
     "output_type": "stream",
     "text": [
      "\t 5\t 6\n",
      " 7\t35\t42\t\n",
      " 8\t40\t48\t\n",
      " 9\t45\t54\t\n",
      " 10\t50\t60\t"
     ]
    }
   ],
   "source": [
    "# a = int(input())\n",
    "# b = int(input())\n",
    "# c = int(input())\n",
    "# d = int(input())\n",
    "\n",
    "a = 7\n",
    "b = 10\n",
    "c = 5\n",
    "d = 6\n",
    "\n",
    "\n",
    "for i in range(c, d + 1):\n",
    "    print('\\t', i, end='')\n",
    "    \n",
    "\n",
    "for i in range(a, b + 1):\n",
    "    print('\\n', i, end='\\t')\n",
    "    for j in range(c, d + 1):\n",
    "        print(i * j, end='\\t')\n",
    "    \n",
    "\n",
    "    "
   ]
  },
  {
   "cell_type": "code",
   "execution_count": null,
   "metadata": {},
   "outputs": [],
   "source": []
  },
  {
   "cell_type": "code",
   "execution_count": null,
   "metadata": {},
   "outputs": [],
   "source": []
  },
  {
   "cell_type": "code",
   "execution_count": null,
   "metadata": {},
   "outputs": [],
   "source": []
  }
 ],
 "metadata": {
  "kernelspec": {
   "display_name": "Python 3",
   "language": "python",
   "name": "python3"
  },
  "language_info": {
   "codemirror_mode": {
    "name": "ipython",
    "version": 3
   },
   "file_extension": ".py",
   "mimetype": "text/x-python",
   "name": "python",
   "nbconvert_exporter": "python",
   "pygments_lexer": "ipython3",
   "version": "3.7.3"
  }
 },
 "nbformat": 4,
 "nbformat_minor": 2
}
