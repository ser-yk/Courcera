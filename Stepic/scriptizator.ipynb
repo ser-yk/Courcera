{
 "cells": [
  {
   "cell_type": "code",
   "execution_count": null,
   "metadata": {},
   "outputs": [],
   "source": [
    "s1 - первый список, s2 - второй список\n",
    "\n",
    "dict (zip (s1,s2)"
   ]
  },
  {
   "cell_type": "code",
   "execution_count": 2,
   "metadata": {},
   "outputs": [
    {
     "name": "stdout",
     "output_type": "stream",
     "text": [
      "abcd\n",
      "*d%#\n",
      "abacabadaba\n",
      "*d*%*d*#*d*#*%*d*%\n",
      "dacabac"
     ]
    }
   ],
   "source": [
    "script = dict(zip(input(), input()))\n",
    "\n",
    "code_1 = input()\n",
    "for i in code_1:\n",
    "    print(script[i], end='')\n",
    "print('\\n', end='')    \n",
    "code_2 = input()\n",
    "for i in code_2:\n",
    "    for k,v in script.items():\n",
    "        if i == v:\n",
    "            print(k, end='')"
   ]
  },
  {
   "cell_type": "code",
   "execution_count": null,
   "metadata": {},
   "outputs": [],
   "source": [
    "a,b,c,d=input(),input(),input(),input()\n",
    "print(''.join(b[a.index(i)] for i in c))\n",
    "print(''.join(a[b.index(i)] for i in d))"
   ]
  },
  {
   "cell_type": "code",
   "execution_count": 4,
   "metadata": {},
   "outputs": [
    {
     "name": "stdout",
     "output_type": "stream",
     "text": [
      "24\n",
      "40\n"
     ]
    }
   ],
   "source": [
    "a = ()\n",
    "b = []\n",
    "print(a.__sizeof__())\n",
    "print(b.__sizeof__())"
   ]
  },
  {
   "cell_type": "code",
   "execution_count": null,
   "metadata": {},
   "outputs": [],
   "source": []
  }
 ],
 "metadata": {
  "kernelspec": {
   "display_name": "Python 3",
   "language": "python",
   "name": "python3"
  },
  "language_info": {
   "codemirror_mode": {
    "name": "ipython",
    "version": 3
   },
   "file_extension": ".py",
   "mimetype": "text/x-python",
   "name": "python",
   "nbconvert_exporter": "python",
   "pygments_lexer": "ipython3",
   "version": "3.7.3"
  }
 },
 "nbformat": 4,
 "nbformat_minor": 2
}
