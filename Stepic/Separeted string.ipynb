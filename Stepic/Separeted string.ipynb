{
 "cells": [
  {
   "cell_type": "markdown",
   "metadata": {},
   "source": [
    "Когда Антон прочитал «Войну и мир», ему стало интересно, сколько слов и в каком количестве используется в этой книге.\n",
    "\n",
    "Помогите Антону написать упрощённую версию такой программы, которая сможет подсчитать слова, разделённые пробелом и вывести получившуюся статистику.\n",
    "\n",
    "Программа должна считывать одну строку со стандартного ввода и выводить для каждого уникального слова в этой строке число его повторений (без учёта регистра) в формате \"слово количество\" (см. пример вывода). \n",
    "Порядок вывода слов может быть произвольным, каждое уникальное слово﻿ должно выводиться только один раз."
   ]
  },
  {
   "cell_type": "code",
   "execution_count": 27,
   "metadata": {},
   "outputs": [
    {
     "name": "stdout",
     "output_type": "stream",
     "text": [
      "a aa abC aa ac abc bcd a\n"
     ]
    },
    {
     "data": {
      "text/plain": [
       "['a', 'aa', 'abc', 'aa', 'ac', 'abc', 'bcd', 'a']"
      ]
     },
     "execution_count": 27,
     "metadata": {},
     "output_type": "execute_result"
    }
   ],
   "source": [
    "string = str(input()).lower().split()\n",
    "string"
   ]
  },
  {
   "cell_type": "code",
   "execution_count": 28,
   "metadata": {},
   "outputs": [],
   "source": [
    "def create_dict(list):\n",
    "    own_words = {}\n",
    "    for i in list:\n",
    "        if i not in own_words:\n",
    "            own_words[i] = int(1)\n",
    "        else:\n",
    "            own_words[i] += 1\n",
    "    \n",
    "    return own_words\n",
    "\n",
    "\n",
    "\n",
    "            "
   ]
  },
  {
   "cell_type": "code",
   "execution_count": 29,
   "metadata": {},
   "outputs": [
    {
     "name": "stdout",
     "output_type": "stream",
     "text": [
      "a 2\n",
      "aa 2\n",
      "abc 2\n",
      "ac 1\n",
      "bcd 1\n"
     ]
    }
   ],
   "source": [
    "for k, v in create_dict(string).items(): \n",
    "    print(k, v)"
   ]
  },
  {
   "cell_type": "markdown",
   "metadata": {},
   "source": [
    "#Вот ещё супер вариант решения"
   ]
  },
  {
   "cell_type": "code",
   "execution_count": 30,
   "metadata": {},
   "outputs": [
    {
     "name": "stdout",
     "output_type": "stream",
     "text": [
      "a aa abC aa ac abc bcd a\n",
      "abc 2\n",
      "aa 2\n",
      "a 2\n",
      "bcd 1\n",
      "ac 1\n"
     ]
    }
   ],
   "source": [
    "s = input().lower().split()\n",
    "for i in set(s):\n",
    "    print(i, s.count(i))"
   ]
  },
  {
   "cell_type": "code",
   "execution_count": null,
   "metadata": {},
   "outputs": [],
   "source": []
  }
 ],
 "metadata": {
  "kernelspec": {
   "display_name": "Python 3",
   "language": "python",
   "name": "python3"
  },
  "language_info": {
   "codemirror_mode": {
    "name": "ipython",
    "version": 3
   },
   "file_extension": ".py",
   "mimetype": "text/x-python",
   "name": "python",
   "nbconvert_exporter": "python",
   "pygments_lexer": "ipython3",
   "version": "3.7.3"
  }
 },
 "nbformat": 4,
 "nbformat_minor": 2
}
