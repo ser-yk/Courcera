{
 "cells": [
  {
   "cell_type": "markdown",
   "metadata": {},
   "source": [
    "S.isdigit() - Состоит ли (под)строка из цифр\n",
    "\n",
    "S.isalpha() -  Состоит ли строка из букв "
   ]
  },
  {
   "cell_type": "code",
   "execution_count": 8,
   "metadata": {},
   "outputs": [
    {
     "name": "stdout",
     "output_type": "stream",
     "text": [
      "XXXXXXXXXXXXXXXtttttttttttttttttthhhhhhhhhhhkkkkkLLLLLLLLLLLYYYYYYYYYYYYYYYYYYzzzzzzHHHHHOOOOOOOOOOOOOgggggggggZZZZZZZZZZKKKKKKKKKKKKKKKKKKKK"
     ]
    }
   ],
   "source": [
    "s = 'X15t18h11k5L11Y18z6H5O13g9Z10K20'\n",
    "\n",
    "for i in range(len(s)):\n",
    "    if s[i].isalpha() and s[- len(s) + 2 + i].isalpha():\n",
    "        for j in range(int(s[i + 1])):\n",
    "            print(s[i], end='')\n",
    "    elif s[i].isalpha() and s[- len(s) + 2 + i].isdigit():\n",
    "        for j in range(int(s[i + 1] + s[i + 2])):\n",
    "            print(s[i], end='')"
   ]
  },
  {
   "cell_type": "code",
   "execution_count": null,
   "metadata": {},
   "outputs": [],
   "source": [
    "for i in len(s):\n",
    "    if s[i].isalpha() and s[len(s) - 2 - i].isalpha:\n",
    "        for j in range(int(s[i + 1])):\n",
    "            print(s[i])\n",
    "    else:\n",
    "        for j in range(int(s[i + 1] + s[i + 2])):\n",
    "            print(s[i])\n",
    "        \n"
   ]
  },
  {
   "cell_type": "code",
   "execution_count": 56,
   "metadata": {},
   "outputs": [],
   "source": [
    "with open('/home/ser_yk/Загрузки/dataset_3363_2.txt') as data:\n",
    "    s = data.readline()\n",
    "    new_s = ''\n",
    "    for i in range(len(s)):\n",
    "        num = ''\n",
    "        cnt = 1\n",
    "        if s[i].isalpha():\n",
    "            while s[i + cnt].isdigit():\n",
    "                num += s[i + cnt]\n",
    "                cnt += 1\n",
    "                new_s += s[i] * int(num)\n",
    "    with open('/home/ser_yk/Загрузки/new_data.txt', 'w+') as new_file:\n",
    "        new_file.write(new_s)\n",
    "    "
   ]
  },
  {
   "cell_type": "code",
   "execution_count": null,
   "metadata": {},
   "outputs": [],
   "source": []
  },
  {
   "cell_type": "code",
   "execution_count": null,
   "metadata": {},
   "outputs": [],
   "source": []
  }
 ],
 "metadata": {
  "kernelspec": {
   "display_name": "Python 3",
   "language": "python",
   "name": "python3"
  },
  "language_info": {
   "codemirror_mode": {
    "name": "ipython",
    "version": 3
   },
   "file_extension": ".py",
   "mimetype": "text/x-python",
   "name": "python",
   "nbconvert_exporter": "python",
   "pygments_lexer": "ipython3",
   "version": "3.7.3"
  }
 },
 "nbformat": 4,
 "nbformat_minor": 2
}
