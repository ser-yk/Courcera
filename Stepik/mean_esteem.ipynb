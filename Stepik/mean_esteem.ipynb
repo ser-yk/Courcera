{
 "cells": [
  {
   "cell_type": "code",
   "execution_count": 59,
   "metadata": {},
   "outputs": [
    {
     "name": "stdout",
     "output_type": "stream",
     "text": [
      "45.333333333333336\n",
      "57.666666666666664\n",
      "76.0\n",
      "79.0\n",
      "41.0\n",
      "55.0\n",
      "58.333333333333336\n",
      "73.0\n",
      "52.666666666666664\n",
      "78.33333333333333\n",
      "39.333333333333336\n",
      "82.66666666666667\n",
      "61.333333333333336\n",
      "73.33333333333333\n",
      "61.333333333333336\n",
      "67.33333333333333\n",
      "64.0\n",
      "54.666666666666664\n",
      "54.0\n",
      "58.0\n",
      "65.0\n",
      "34.0\n",
      "61.333333333333336\n",
      "63.0\n",
      "68.0\n",
      "65.66666666666667\n",
      "64.33333333333333\n",
      "56.0\n",
      "67.33333333333333\n",
      "72.66666666666667\n",
      "50.333333333333336\n",
      "87.66666666666667\n",
      "71.0\n",
      "74.66666666666667\n",
      "56.0\n",
      "75.0\n",
      "63.0\n",
      "76.0\n",
      "53.0\n",
      "79.0\n",
      "64.0\n",
      "40.333333333333336\n",
      "47.0\n",
      "55.333333333333336\n",
      "85.33333333333333\n",
      "47.666666666666664\n",
      "92.33333333333333\n",
      "44.333333333333336\n",
      "50.333333333333336\n",
      "69.0\n",
      "69.0\n",
      "68.0\n",
      "48.333333333333336\n",
      "68.33333333333333\n",
      "72.66666666666667\n",
      "68.33333333333333\n",
      "70.33333333333333\n",
      "47.666666666666664\n",
      "56.0\n",
      "65.66666666666667\n",
      "48.333333333333336\n",
      "80.33333333333333\n",
      "82.66666666666667\n",
      "68.84126984126983 61.12698412698413 59.3968253968254\n"
     ]
    }
   ],
   "source": [
    "with open('/home/ser_yk/Загрузки/dataset_3363_4.txt', 'r') as data:\n",
    "    lines = data.read().split('\\n')\n",
    "    df = []\n",
    "    if '' in lines:\n",
    "        lines.remove('')\n",
    "    for i in lines:\n",
    "        df.append(i.split(';'))\n",
    "    mean_sbj_1 = 0\n",
    "    mean_sbj_2 = 0\n",
    "    mean_sbj_3 = 0 \n",
    "    \n",
    "    for i in df:\n",
    "        mean_sbj_1 += int(i[1])\n",
    "        mean_sbj_2 += int(i[2])\n",
    "        mean_sbj_3 += int(i[3]) \n",
    "        print((sum(int(j) for j in i[1:])) / 3)\n",
    "    print(mean_sbj_1 / len(df), mean_sbj_2 / len(df), mean_sbj_3 / len(df))\n",
    "    "
   ]
  },
  {
   "cell_type": "code",
   "execution_count": null,
   "metadata": {},
   "outputs": [],
   "source": [
    "s = [0, 0, 0]\n",
    "n = 0\n",
    "with open('111.txt') as f:\n",
    "    for line in f:\n",
    "        m = list(map(int, line.strip().split(';')[1:]))\n",
    "        print(sum(m)/3)\n",
    "        for i in 0, 1, 2: s[i] += m[i]\n",
    "        n += 1\n",
    "    print(s[0]/n, s[1]/n, s[2]/n)"
   ]
  },
  {
   "cell_type": "code",
   "execution_count": 62,
   "metadata": {},
   "outputs": [
    {
     "name": "stdout",
     "output_type": "stream",
     "text": [
      "https://stepic.org/media/attachments/course67/3.6.2/672.txt\n"
     ]
    }
   ],
   "source": [
    "\n",
    "\n",
    "with open('/home/ser_yk/Загрузки/dataset_3378_2.txt', 'r') as data:\n",
    "    adress = data.read().strip()\n",
    "\n",
    "\n",
    "\n",
    "\n",
    "print(adress)"
   ]
  },
  {
   "cell_type": "code",
   "execution_count": null,
   "metadata": {},
   "outputs": [],
   "source": []
  }
 ],
 "metadata": {
  "kernelspec": {
   "display_name": "Python 3",
   "language": "python",
   "name": "python3"
  },
  "language_info": {
   "codemirror_mode": {
    "name": "ipython",
    "version": 3
   },
   "file_extension": ".py",
   "mimetype": "text/x-python",
   "name": "python",
   "nbconvert_exporter": "python",
   "pygments_lexer": "ipython3",
   "version": "3.7.3"
  }
 },
 "nbformat": 4,
 "nbformat_minor": 2
}
