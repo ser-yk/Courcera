{
 "cells": [
  {
   "cell_type": "markdown",
   "metadata": {},
   "source": [
    "Недавно мы считали для каждого слова количество его вхождений в строку. Но на все слова может быть не так интересно смотреть, как, например, на наиболее часто используемые.\n",
    "\n",
    "Напишите программу, которая считывает текст из файла (в файле может быть больше одной строки) и выводит самое частое слово в этом тексте и через пробел то, сколько раз оно встретилось. Если таких слов несколько, вывести лексикографически первое (можно использовать оператор < для строк).\n",
    "\n",
    "В качестве ответа укажите вывод программы, а не саму программу.\n",
    "\n",
    "Слова, написанные в разных регистрах, считаются одинаковыми."
   ]
  },
  {
   "cell_type": "code",
   "execution_count": 31,
   "metadata": {},
   "outputs": [
    {
     "name": "stdout",
     "output_type": "stream",
     "text": [
      "cuttppyx 10\n"
     ]
    }
   ],
   "source": [
    "import string\n",
    "with open('/home/ser_yk/Загрузки/dataset_3363_3 (1).txt') as data:\n",
    "    \n",
    "    text = data.read()\n",
    "    text = ''.join([c for c in text if c not in ('!', '?', '.', ',', '{', '}')]).lower().split()\n",
    "    our_words = {}\n",
    "    for word in text:\n",
    "        if word in our_words:\n",
    "            our_words[word] += 1\n",
    "        else:\n",
    "            our_words[word] = 1\n",
    "    \n",
    "    max = 0\n",
    "    for k,v in our_words.items():\n",
    "        if v > max:\n",
    "            key = k\n",
    "            max = v\n",
    "    answer_max = []\n",
    "    for k,v in our_words.items():\n",
    "        if v == max:\n",
    "            answer_max.append(k)\n",
    "    answer_max.sort()\n",
    "    for i in answer_max:\n",
    "        print(i, max)"
   ]
  },
  {
   "cell_type": "code",
   "execution_count": null,
   "metadata": {},
   "outputs": [],
   "source": [
    "collection !!!!!!!!!!!!!!!!!!!!!!!!!!"
   ]
  },
  {
   "cell_type": "code",
   "execution_count": null,
   "metadata": {},
   "outputs": [],
   "source": []
  }
 ],
 "metadata": {
  "kernelspec": {
   "display_name": "Python 3",
   "language": "python",
   "name": "python3"
  },
  "language_info": {
   "codemirror_mode": {
    "name": "ipython",
    "version": 3
   },
   "file_extension": ".py",
   "mimetype": "text/x-python",
   "name": "python",
   "nbconvert_exporter": "python",
   "pygments_lexer": "ipython3",
   "version": "3.7.3"
  }
 },
 "nbformat": 4,
 "nbformat_minor": 2
}
