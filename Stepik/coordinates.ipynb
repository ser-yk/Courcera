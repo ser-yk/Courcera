{
 "cells": [
  {
   "cell_type": "code",
   "execution_count": 1,
   "metadata": {},
   "outputs": [
    {
     "name": "stdout",
     "output_type": "stream",
     "text": [
      "4\n",
      "север 10\n",
      "восток 50\n",
      "запад 40\n",
      "юг 30\n",
      "-20 10\n"
     ]
    }
   ],
   "source": [
    "n  = int(input())\n",
    "cnt = {'восток': 0, 'север': 0}\n",
    "\n",
    "for i in range(n):\n",
    "    enter = input().split()\n",
    "    if enter[0] == 'север':\n",
    "        cnt['север'] += int(enter[1])\n",
    "    elif enter[0] == 'юг':\n",
    "        cnt['север'] -= int(enter[1])\n",
    "    elif enter[0] == 'восток':\n",
    "        cnt['восток'] += int(enter[1])\n",
    "    elif enter[0] == 'запад':\n",
    "        cnt['восток'] -= int(enter[1])\n",
    "print(*[v for k, v in cnt.items()])\n",
    "    "
   ]
  },
  {
   "cell_type": "code",
   "execution_count": null,
   "metadata": {},
   "outputs": [],
   "source": [
    "n=int(input())\n",
    "d={'север':0,'запад':0,'юг':0,'восток':0}\n",
    "for i in range(n):\n",
    "    x=input().split()\n",
    "    d[x[0]]+=int(x[1])\n",
    "print(d['восток']-d['запад'], d['север']-d['юг'])"
   ]
  },
  {
   "cell_type": "markdown",
   "metadata": {},
   "source": [
    "6\tВяххи\t159\n",
    " \n",
    "11\tФедотов\t172\n",
    " \n",
    "7\tБондарев\t158\n",
    " \n",
    "6\tЧайкина\t153"
   ]
  },
  {
   "cell_type": "code",
   "execution_count": 18,
   "metadata": {},
   "outputs": [
    {
     "name": "stdout",
     "output_type": "stream",
     "text": [
      "1 123.66667\n",
      "2 131.0\n",
      "3 135.0\n",
      "4 139.0\n",
      "5 144.83333\n",
      "6 155.73333\n",
      "7 159.85714\n",
      "8 165.69231\n",
      "9 170.0\n",
      "10 170.08333\n",
      "11 177.0\n"
     ]
    }
   ],
   "source": [
    "data = open('/home/ser_yk/Загрузки/dataset_3380_5.txt')\n",
    "cnt = {}\n",
    "row = data.readline().split()\n",
    "\n",
    "while row:\n",
    "    if row[0] not in cnt:\n",
    "        cnt[row[0]] = {'q-ty': 1, 'sum': int(row[2])}\n",
    "    else:\n",
    "        cnt[row[0]]['q-ty'] += 1\n",
    "        cnt[row[0]]['sum'] += int(row[2])\n",
    "    row = data.readline().split()\n",
    "    \n",
    "for i in range(1,12):\n",
    "    if str(i) not in cnt:\n",
    "        print(str(i), '-')\n",
    "    else:\n",
    "        print(str(i), round(cnt[str(i)]['sum'] / cnt[str(i)]['q-ty'], 5))\n"
   ]
  },
  {
   "cell_type": "code",
   "execution_count": 19,
   "metadata": {},
   "outputs": [
    {
     "ename": "ModuleNotFoundError",
     "evalue": "No module named 'pandas'",
     "output_type": "error",
     "traceback": [
      "\u001b[0;31m---------------------------------------------------------------------------\u001b[0m",
      "\u001b[0;31mModuleNotFoundError\u001b[0m                       Traceback (most recent call last)",
      "\u001b[0;32m<ipython-input-19-b31c96707b77>\u001b[0m in \u001b[0;36m<module>\u001b[0;34m\u001b[0m\n\u001b[0;32m----> 1\u001b[0;31m \u001b[0;32mimport\u001b[0m \u001b[0mpandas\u001b[0m \u001b[0;32mas\u001b[0m \u001b[0mpd\u001b[0m\u001b[0;34m\u001b[0m\u001b[0;34m\u001b[0m\u001b[0m\n\u001b[0m\u001b[1;32m      2\u001b[0m \u001b[0;34m\u001b[0m\u001b[0m\n\u001b[1;32m      3\u001b[0m \u001b[0mdf\u001b[0m \u001b[0;34m=\u001b[0m \u001b[0mpd\u001b[0m\u001b[0;34m.\u001b[0m\u001b[0mread_table\u001b[0m\u001b[0;34m(\u001b[0m\u001b[0;34m'C:\\\\Users\\\\User\\\\Desktop\\\\py_course\\\\dataset_3380_5.txt'\u001b[0m\u001b[0;34m,\u001b[0m \u001b[0mheader\u001b[0m\u001b[0;34m=\u001b[0m\u001b[0;32mNone\u001b[0m\u001b[0;34m,\u001b[0m \u001b[0msep\u001b[0m\u001b[0;34m=\u001b[0m\u001b[0;34mr'\\s{1,}'\u001b[0m\u001b[0;34m)\u001b[0m\u001b[0;34m\u001b[0m\u001b[0;34m\u001b[0m\u001b[0m\n\u001b[1;32m      4\u001b[0m \u001b[0mprint\u001b[0m\u001b[0;34m(\u001b[0m\u001b[0mdf\u001b[0m\u001b[0;34m.\u001b[0m\u001b[0mgroupby\u001b[0m\u001b[0;34m(\u001b[0m\u001b[0;36m0\u001b[0m\u001b[0;34m)\u001b[0m\u001b[0;34m.\u001b[0m\u001b[0mmean\u001b[0m\u001b[0;34m(\u001b[0m\u001b[0;34m)\u001b[0m\u001b[0;34m)\u001b[0m\u001b[0;34m\u001b[0m\u001b[0;34m\u001b[0m\u001b[0m\n",
      "\u001b[0;31mModuleNotFoundError\u001b[0m: No module named 'pandas'"
     ]
    }
   ],
   "source": [
    "import pandas as pd\n",
    "\n",
    "df = pd.read_table('C:\\\\Users\\\\User\\\\Desktop\\\\py_course\\\\dataset_3380_5.txt', header=None, sep=r'\\s{1,}')\n",
    "print(df.groupby(0).mean())"
   ]
  },
  {
   "cell_type": "code",
   "execution_count": null,
   "metadata": {},
   "outputs": [],
   "source": []
  }
 ],
 "metadata": {
  "kernelspec": {
   "display_name": "Python 3",
   "language": "python",
   "name": "python3"
  },
  "language_info": {
   "codemirror_mode": {
    "name": "ipython",
    "version": 3
   },
   "file_extension": ".py",
   "mimetype": "text/x-python",
   "name": "python",
   "nbconvert_exporter": "python",
   "pygments_lexer": "ipython3",
   "version": "3.7.3"
  }
 },
 "nbformat": 4,
 "nbformat_minor": 2
}
